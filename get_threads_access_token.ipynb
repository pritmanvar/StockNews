{
 "cells": [
  {
   "cell_type": "code",
   "execution_count": 2,
   "metadata": {},
   "outputs": [],
   "source": [
    "import requests\n",
    "\n",
    "import os\n",
    "from dotenv import load_dotenv\n",
    "\n",
    "load_dotenv()\n",
    "\n",
    "params = {\n",
    "    \"client_id\": os.getenv(\"TH_CLIENT_ID\"),\n",
    "    \"redirect_uri\": \"\", # need to add here and same in developer account\n",
    "    \"client_secret\": os.getenv(\"TH_CLIENT_SECRET\"),\n",
    "    \"grant_type\": \"authorization_code\",\n",
    "    \"code\": \"\",\n",
    "}"
   ]
  },
  {
   "cell_type": "code",
   "execution_count": null,
   "metadata": {},
   "outputs": [],
   "source": [
    "url = f\"https://threads.net/oauth/authorize?client_id={params['client_id']}&redirect_uri={params['redirect_uri']}&scope=threads_basic%2Cthreads_content_publish%2Cthreads_manage_insights%2Cthreads_manage_replies%2Cthreads_read_replies&response_type=code\"\n",
    "\n",
    "print(\"auth uri\", url)"
   ]
  },
  {
   "cell_type": "code",
   "execution_count": null,
   "metadata": {},
   "outputs": [],
   "source": [
    "\n",
    "redirected_url = \"\" # Go to the above url, authenticate and it will redirect to another url. Paste that url here\n",
    "auth_code = redirected_url.replace(params['redirect_uri']+\"?code=\", \"\").replace(\"#_\", \"\")\n",
    "print(\"auth code\", auth_code)\n",
    "params['code'] = auth_code"
   ]
  },
  {
   "cell_type": "code",
   "execution_count": null,
   "metadata": {},
   "outputs": [],
   "source": [
    "access_token_url = \"https://graph.threads.net/oauth/access_token\"\n",
    "response = requests.post(access_token_url, params=params)\n",
    "data = response.json()\n",
    "print(\"data\", data)\n",
    "access_token = data['access_token']"
   ]
  },
  {
   "cell_type": "code",
   "execution_count": null,
   "metadata": {},
   "outputs": [],
   "source": [
    "long_access_token_url = \"https://graph.threads.net/access_token\"\n",
    "long_access_token = requests.get(long_access_token_url, params={\"grant_type\": \"th_exchange_token\", \"client_secret\": params['client_secret'], \"access_token\": access_token}).json()\n",
    "print(long_access_token)"
   ]
  },
  {
   "cell_type": "code",
   "execution_count": null,
   "metadata": {},
   "outputs": [],
   "source": [
    "long_access_token['expires_in']/60/60/24"
   ]
  },
  {
   "cell_type": "code",
   "execution_count": null,
   "metadata": {},
   "outputs": [],
   "source": []
  }
 ],
 "metadata": {
  "kernelspec": {
   "display_name": ".venv",
   "language": "python",
   "name": "python3"
  },
  "language_info": {
   "codemirror_mode": {
    "name": "ipython",
    "version": 3
   },
   "file_extension": ".py",
   "mimetype": "text/x-python",
   "name": "python",
   "nbconvert_exporter": "python",
   "pygments_lexer": "ipython3",
   "version": "3.12.3"
  }
 },
 "nbformat": 4,
 "nbformat_minor": 2
}
